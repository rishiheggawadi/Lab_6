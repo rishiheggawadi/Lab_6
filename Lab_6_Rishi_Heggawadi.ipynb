{
 "cells": [
  {
   "cell_type": "code",
   "execution_count": 1,
   "id": "79e2a2bd",
   "metadata": {},
   "outputs": [],
   "source": [
    "from selenium import webdriver\n",
    "from selenium.webdriver.common.keys import Keys\n",
    "from selenium.webdriver.common.by import By\n",
    "from selenium.webdriver.support.ui import WebDriverWait\n",
    "from selenium.webdriver.support import expected_conditions as EC\n",
    "from selenium.webdriver.chrome.service import Service\n",
    "from selenium.webdriver.common.action_chains import ActionChains"
   ]
  },
  {
   "cell_type": "code",
   "execution_count": 2,
   "id": "32b35ef9",
   "metadata": {
    "scrolled": true
   },
   "outputs": [
    {
     "name": "stdout",
     "output_type": "stream",
     "text": [
      "Success!\n"
     ]
    }
   ],
   "source": [
    "# Using an action chain – click the “Government” tab and click “Departments” in the top-left corner – \n",
    "# use Xpaths to do this (4pts)\n",
    "\n",
    "PATH = Service(\"/Users/rishiheggawadi/Documents/HARP 151/chromedriver.exe\")\n",
    "driver = webdriver.Chrome(service=PATH)\n",
    "\n",
    "site = \"https://www.binghamton-ny.gov/home\"\n",
    "driver.get(site)\n",
    "government = driver.find_element(By.XPATH,\"//*[@id='dropdownrootitem3']/a\" )\n",
    "dept = driver.find_element(By.XPATH,\"//*[@id='dropdownrootitem3']/div/div/ul[1]/li/a\")\n",
    "\n",
    "actions = ActionChains(driver)\n",
    "actions.move_to_element(government)\n",
    "actions.click(government)\n",
    "actions.click(dept)\n",
    "actions.perform()\n",
    "# just a quick question on the code above- why do we not have to have a line of code that says \n",
    "# actions.move_to_element(dept) ?\n",
    "\n",
    "# In a try/finally clause & WebDriverWait, click on the “Personnel/Civil Service” link, \n",
    "# then click on the “Employment” link in the left menu – use Xpaths to do this (3pts)\n",
    "\n",
    "try:\n",
    "    WebDriverWait(driver, 10).until(EC.element_to_be_clickable((By.XPATH, \"//*[@id='widget_4_33_127']/ul/li[16]/a\"))).click()\n",
    "    WebDriverWait(driver, 10).until(EC.element_to_be_clickable((By.XPATH, \"//*[@id='leftNav_1038_0_145']/ul/li/ul/li[14]/ul/li/a\"))).click()\n",
    "finally:\n",
    "    print(\"Success!\")"
   ]
  },
  {
   "cell_type": "code",
   "execution_count": 3,
   "id": "46fd5aa6",
   "metadata": {},
   "outputs": [],
   "source": [
    "from bs4 import BeautifulSoup\n",
    "import requests\n",
    "import html5lib\n",
    "import csv\n",
    "import pandas as pd"
   ]
  },
  {
   "cell_type": "code",
   "execution_count": 4,
   "id": "5b622c99",
   "metadata": {
    "scrolled": true
   },
   "outputs": [
    {
     "name": "stdout",
     "output_type": "stream",
     "text": [
      "JOB TYPE APPLICATION DEADLINE SALARY\n",
      "Animal Control Officer Full Time Open Until Filled $45,228.00 per Year\n",
      "Assistant Engineer Full Time Open Until Filled $38,127 - $45,062 per Year\n",
      "Building Inspector II Full Time Open Until Filled $42,436 per Year\n",
      "City Engineer Full Time Open Until Filled Not Specified\n",
      "Code Inspector Full Time Open Until Filled $33,632 per Year*\n",
      "Commissioner of Public Works Full Time Open Until Filled Not Specified\n",
      "Crossing Guard Part Time Open Until Filled $43.75 per Day\n",
      "Director of Police Department Community Outreach and Recruitment Full Time Open Until Filled $66,950.00 per Year\n",
      "First Deputy Commissioner of Public Works Full Time Open Until Filled $61,730.00 per Year\n",
      "Laboratory Technician (Sanitary Services) Full Time Open Until Filled $29,406.00 per Year\n",
      "Staff Accountant Full Time Open Until Filled Up to $59,000 per Year\n",
      "Street Maintainer Full Time Open Until Filled $18.36 Per Hour\n",
      "Water & Sewer Systems Maintainer Full Time Open Until Filled $20.71 per Hour\n",
      "Water Meter Repairer Full Time Open Until Filled $19.11 per Hour\n"
     ]
    }
   ],
   "source": [
    "# Scrape the table of Job Openings – you can use Selenium or BeautifulSoup to do this (3pts)\n",
    "\n",
    "PATH = Service(\"/Users/rishiheggawadi/Documents/HARP 151/chromedriver.exe\")\n",
    "driver = webdriver.Chrome(service=PATH)\n",
    "\n",
    "site = \"https://www.binghamton-ny.gov/home\"\n",
    "driver.get(site)\n",
    "government = driver.find_element(By.XPATH,\"//*[@id='dropdownrootitem3']/a\")\n",
    "dept = driver.find_element(By.XPATH,\"//*[@id='dropdownrootitem3']/div/div/ul[1]/li/a\")\n",
    "\n",
    "actions = ActionChains(driver)\n",
    "actions.move_to_element(government)\n",
    "actions.click(government)\n",
    "actions.click(dept)\n",
    "actions.perform()\n",
    "\n",
    "# Scraped the table\n",
    "driver.find_element(By.XPATH, \"//*[@id='widget_4_33_127']/ul/li[16]/a\").click()\n",
    "driver.find_element(By.XPATH, \"//*[@id='leftNav_1038_0_145']/ul/li/ul/li[14]/ul/li/a\").click()\n",
    "table = driver.find_element(By.XPATH, \"//*[@id='ColumnUserControl4']/div[2]\")\n",
    "\n",
    "print(table.text)\n",
    "\n",
    "# wasn't able to put the data into a CSV file, but here is the table scraped!"
   ]
  },
  {
   "cell_type": "markdown",
   "id": "bb3a6240",
   "metadata": {},
   "source": [
    "# BONUS"
   ]
  },
  {
   "cell_type": "code",
   "execution_count": 5,
   "id": "4751bacc",
   "metadata": {
    "scrolled": true
   },
   "outputs": [
    {
     "name": "stdout",
     "output_type": "stream",
     "text": [
      "Department of Engineering\n",
      "DISTINGUISHING FEATURES OF THE CLASS: This is a professional engineering position, managing and directing engineering activities of considerable scope and variety. The City Engineer plans, develops, directs, and manages the City’s engineering activities including design and construction of streets, water/sewage/drainage facilities, renovation of municipal buildings, parks facilities, and other various facilities. The City Engineer also participates in major project planning and policy formulations with the City’s Capital Improvement Committee. Management and supervision is exercised over all subordinate professional, technical and clerical employees in the Engineering Department.\n",
      "FULL PERFORMANCE KNOWLEDGES, SKILLS, ABILITIES & PERSONAL CHARACTERISTICS: Comprehensive knowledge of the principles and practices of civil engineering; comprehensive knowledge of engineering research and economics; comprehensive knowledge of sources of engineering information; comprehensive knowledge of modern methods and principles of construction and maintenance of public works buildings; thorough knowledge of administrative procedures and sound management techniques; thorough knowledge of methods and procedures involved in the initiation, planning, design, and development of major engineering projects; ability to develop methods and procedures relating to engineering activities; ability to anticipate future municipal engineering needs for the development of long range municipal engineering programs; initiative and resourcefulness in solving complex administrative and engineering programs; a high degree of professional judgment; ability to operate a personal computer and utilize common office software programs including word processing, spreadsheet, and database at an acceptable rate of accuracy and speed; physical condition commensurate with the demands of the position.\n",
      "TYPICAL WORK ACTIVITIES:\n",
      "In-house Project Engineering\n",
      "Survey work for design and construction;\n",
      "Design of street/sidewalk/pipeline construction projects;\n",
      "Construction inspection of street/sidewalk/pipeline construction projects;\n",
      "Investigation/design for building, structural, and mechanical facility projects;\n",
      "Construction inspection of building, structural, and mechanical facility projects;\n",
      "Water/wastewater treatment and pumping studies, designs, construction inspection.\n",
      "Infrastructure Planning\n",
      "Comprehensive infrastructure overview—routine inspections with reports, preventive maintenance programs, facility retirement/replacement schedules, long range planning budgeting;\n",
      "Active participation on inter-agency committees, commissions, various City boards, etc.;\n",
      "Detailed review of consultant planning reports, recommendations, and designs for major City commitments.\n",
      "Infrastructure Management, Control, and Record Keeping\n",
      "Maintenance of accurate maps (tax, utility, street, easement, R.O.W., topographic, G.I.S. files, etc.);\n",
      "Maintenance of record construction drawings;\n",
      "Maintenance and updating of standard construction details/specifications;\n",
      "Coordination of water/sewer/drainage facilities with other City and outside agency programs/projects;\n",
      "Response to problems during construction and repairs being performed by City Water and Sewer crews;\n",
      "Review of developers’ projects/proposals (for utility availability, adequacy of infrastructure, compliance with standards);\n",
      "Administration/inspection of Street Work Permit Program;\n",
      "Sidewalk Inspection/Compliant Response City Repair Program;\n",
      "Administration/inspection of Sidewalk/Curb Rebate Program;\n",
      "RFPs for engineering services, proposal reviews, administration of consultant contracts;\n",
      "Review of consultant designs;\n",
      "Inter-agency coordination (NYSDOT, NYSDEC) and follow through on City responsibilities;\n",
      "Administration of construction contracts and budget control;\n",
      "Response to problems during construction administered by consultants (complaints, requests, unanticipated physical conditions necessitating change orders);\n",
      "Provide information to Legal Department concerning claims and all other legal matters as deemed appropriate;\n",
      "Answer public inquires.\n",
      "MINIMUM QUALIFICATIONS: Possession of a New York State Professional Engineer License and either:\n",
      "A. Graduation from a regionally accredited or New York State registered four year college or university with major work in Civil Engineering and six years of Civil Engineering experience; OR\n",
      "B. Graduation from a regionally accredited or New York State registered two year college with major work in Engineering Science or Civil Engineering Technology and ten years of Civil Engineering experience; OR\n",
      "C. Graduation from high school or possession of a high school equivalency diploma and fourteen years of Civil engineering experience.\n",
      "The City of Binghamton is an equal opportunity employer with a commitment to workforce diversification. All new hires are required to pass a pre-employment drug test as a condition of employment.\n"
     ]
    }
   ],
   "source": [
    "# Bonus (3pts) – build a program that can click on a job hyperlink (like City Engineer) \n",
    "# and scrape all the data on the page from “Distinguishing Features” to “Minimum Qualifications” \n",
    "# and then go back to the job opening page\n",
    "\n",
    "PATH = Service(\"/Users/rishiheggawadi/Documents/HARP 151/chromedriver.exe\")\n",
    "driver = webdriver.Chrome(service=PATH)\n",
    "\n",
    "site = \"https://www.binghamton-ny.gov/home\"\n",
    "driver.get(site)\n",
    "government = driver.find_element(By.XPATH,\"//*[@id='dropdownrootitem3']/a\" )\n",
    "dept = driver.find_element(By.XPATH,\"//*[@id='dropdownrootitem3']/div/div/ul[1]/li/a\")\n",
    "\n",
    "actions = ActionChains(driver)\n",
    "actions.move_to_element(government)\n",
    "actions.click(government)\n",
    "actions.click(dept)\n",
    "actions.perform()\n",
    "\n",
    "driver.find_element(By.XPATH, \"//*[@id='widget_4_33_127']/ul/li[16]/a\").click()\n",
    "driver.find_element(By.XPATH, \"//*[@id='leftNav_1038_0_145']/ul/li/ul/li[14]/ul/li/a\").click()\n",
    "driver.find_element(By.XPATH, \"//*[@id='ColumnUserControl4']/div[2]/table/tbody/tr[4]/td[1]/a\").click()\n",
    "content = driver.find_element(By.XPATH, \"//*[@id='ColumnUserControl4']/div[2]/div\")\n",
    "content = content.text\n",
    "driver.back()\n",
    "print(content)"
   ]
  },
  {
   "cell_type": "code",
   "execution_count": null,
   "id": "6fff0ad5",
   "metadata": {},
   "outputs": [],
   "source": []
  }
 ],
 "metadata": {
  "kernelspec": {
   "display_name": "Python 3 (ipykernel)",
   "language": "python",
   "name": "python3"
  },
  "language_info": {
   "codemirror_mode": {
    "name": "ipython",
    "version": 3
   },
   "file_extension": ".py",
   "mimetype": "text/x-python",
   "name": "python",
   "nbconvert_exporter": "python",
   "pygments_lexer": "ipython3",
   "version": "3.9.12"
  }
 },
 "nbformat": 4,
 "nbformat_minor": 5
}
